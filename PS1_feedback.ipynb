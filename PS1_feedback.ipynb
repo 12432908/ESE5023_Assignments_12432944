{
 "cells": [
  {
   "cell_type": "markdown",
   "id": "df0b4516-bbe5-42e9-b785-398c3dedf85e",
   "metadata": {},
   "source": [
    "### 这个单元格给助教，请忽略!\n",
    "\n",
    "### Score: 108\n",
    "\n",
    "### Comment:\n",
    "Q1.[4]未考虑等于的情况\n",
    "\n",
    "Q2.[11]Good job!\n",
    "\n",
    "Q3.[16.5+5.5]Good job!\n",
    "\n",
    "Q4.[5.5+16.5+5.5]Good job!\n",
    "\n",
    "Q5.[5.5+27.5+5]Good job!\n",
    "\n",
    "请实现每个 function 内容，确保最终提交的notebook是可以运行的。\n",
    "\n",
    "每一题除了必须要报告的 输出/图表，可以添加解释（中文即可）。此外可以自定义其他 function / 变量，自由添加单元格，但请确保题目中给出的 function （如第一题的 Print_values）可以正常调用。"
   ]
  },
  {
   "cell_type": "code",
   "execution_count": 5,
   "id": "82efda92-b19a-4841-a3cb-bcee5f2f6371",
   "metadata": {},
   "outputs": [
    {
     "name": "stdout",
     "output_type": "stream",
     "text": [
      "1 1 1 2\n",
      "-18\n"
     ]
    }
   ],
   "source": [
    "# 1\n",
    "# 定义一个包含参数a, b, c的函数Print_values\n",
    "def Print_values(a, b, c):\n",
    "    # 按从小到大的顺序比较a, b, c的大小并按降序输出a,b,c\n",
    "    if a > b and b > c:\n",
    "        x = a\n",
    "        y = b\n",
    "        z = c\n",
    "        print(x, y, z)\n",
    "    elif a > c and c > b:  \n",
    "        x = a\n",
    "        y = c\n",
    "        z = b\n",
    "        print(x, y, z)\n",
    "    elif b > a and a > c:\n",
    "        x = b\n",
    "        y = a\n",
    "        z = c\n",
    "    elif b > c and c > a:\n",
    "        x = b\n",
    "        y = c\n",
    "        z = a\n",
    "    elif c > a and a > b:\n",
    "        x = c\n",
    "        y = a\n",
    "        z = b\n",
    "        print(x, y, z)\n",
    "    else:\n",
    "        x = c\n",
    "        y = b\n",
    "        z = a\n",
    "        # 为了便于测试，对print的内容进行了修改\n",
    "        # print(x, y, z)\n",
    "        print(x, x, y, z)\n",
    "    \n",
    "    # 计算并输出x+y-10z\n",
    "    print(x + y - 10*z)\n",
    "    \n",
    "# 使用a=10, b=5, c=1测试函数\n",
    "# NOTE: 未考虑等于的情况\n",
    "# EXAMPLE: 当a=2, b=1, c=1时，按流程图输出为a, c, b，实际输出为c, b, a -1\n",
    "Print_values(2, 1, 1)"
   ]
  },
  {
   "cell_type": "code",
   "execution_count": 7,
   "id": "113955d0-7adc-4795-8bbb-dd1b045b709d",
   "metadata": {},
   "outputs": [
    {
     "name": "stdout",
     "output_type": "stream",
     "text": [
      "F(1) = 1\n",
      "F(2) = 5\n",
      "F(3) = 7\n",
      "F(4) = 13\n",
      "F(5) = 15\n",
      "F(100) = 305\n"
     ]
    }
   ],
   "source": [
    "# 2\n",
    "def F(x):\n",
    "        if x == 1:\n",
    "            return 1\n",
    "        else:\n",
    "            return F((x+2)//3) + 2*x\n",
    "\n",
    "# 测试例子\n",
    "# numbers = [1, 3, 5, 10, 15]\n",
    "numbers = [1, 2, 3, 4, 5, 100]\n",
    "for num in numbers:\n",
    "    result = F(num)\n",
    "    print(f\"F({num}) = {result}\")"
   ]
  },
  {
   "cell_type": "code",
   "execution_count": 9,
   "id": "da3da398-16dc-4db7-a694-ca20f0502832",
   "metadata": {},
   "outputs": [
    {
     "name": "stdout",
     "output_type": "stream",
     "text": [
      "The number of ways to get sum 20 with 10 dice is: 85228\n"
     ]
    }
   ],
   "source": [
    "# 3.1\n",
    "# 定义函数Find_number_of_ways，接受参数x和n（n个骰子）\n",
    "def Find_number_of_ways(x, n, memo):\n",
    "    # 如果只有一个骰子，且x的范围是1到6之间，那么只有一种方式\n",
    "    if n == 1:\n",
    "        if 1 <= x <= 6:\n",
    "            return 1\n",
    "        else:\n",
    "            return 0\n",
    "    # 如果之前已经计算过，直接返回之前的计算结果\n",
    "    if (x, n) in memo:\n",
    "        return memo[(x, n)]\n",
    "    \n",
    "    # 初始化计数值\n",
    "    ways = 0\n",
    "    # 遍历骰子的每个面\n",
    "    for i in range(1, 7):\n",
    "        # 递归调用计算剩余骰子的所有可能情况\n",
    "        ways += Find_number_of_ways(x - i, n - 1, memo)\n",
    "    \n",
    "    # 存储计算结果到memo中\n",
    "    memo[(x, n)] = ways\n",
    "    return ways\n",
    "\n",
    "# 测试例子\n",
    "x = 20\n",
    "n = 10\n",
    "memo = {}\n",
    "result = Find_number_of_ways(x, n, memo)\n",
    "print(f\"The number of ways to get sum {x} with {n} dice is: {result}\")"
   ]
  },
  {
   "cell_type": "code",
   "execution_count": 10,
   "id": "a41db6fc-343b-431e-8a48-6119c592b111",
   "metadata": {},
   "outputs": [
    {
     "name": "stdout",
     "output_type": "stream",
     "text": [
      "The maximum number of ways 4395456 is achieved at x = 35\n"
     ]
    }
   ],
   "source": [
    "# 3.2\n",
    "# 初始化存储结果的列表\n",
    "Number_of_ways = []\n",
    "\n",
    "# 遍历x的范围从10到60\n",
    "for x in range(10, 61):\n",
    "    n = 10  # 10个骰子\n",
    "    memo = {}  # 初始化memo\n",
    "    result = Find_number_of_ways(x, n, memo)  # 计算x和n的方法数量\n",
    "    Number_of_ways.append(result)  # 将结果加入列表中\n",
    "\n",
    "# 找到最大值以及对应的x值\n",
    "max_ways = max(Number_of_ways)\n",
    "max_x = Number_of_ways.index(max_ways) + 10  # 加上起始的10\n",
    "\n",
    "print(f\"The maximum number of ways {max_ways} is achieved at x = {max_x}\")"
   ]
  },
  {
   "cell_type": "code",
   "execution_count": 22,
   "id": "49de93b5-4318-4aa1-a01f-c90f49e26ffd",
   "metadata": {},
   "outputs": [
    {
     "name": "stdout",
     "output_type": "stream",
     "text": [
      "[4, 0, 3, 6, 9, 7, 4, 10, 3, 10]\n"
     ]
    }
   ],
   "source": [
    "# 4.1\n",
    "import random\n",
    "def Random_integer(N):\n",
    "        return [random.randint(0, 10) for _ in range(N)]\n",
    "\n",
    "# 测试例子\n",
    "N = 10\n",
    "random_array = Random_integer(N)\n",
    "print(random_array)"
   ]
  },
  {
   "cell_type": "code",
   "execution_count": 25,
   "id": "be6c320f-4f73-42ef-9d13-73e4517f0773",
   "metadata": {},
   "outputs": [
    {
     "name": "stdout",
     "output_type": "stream",
     "text": [
      "14.0\n"
     ]
    }
   ],
   "source": [
    "# 4.2\n",
    "from itertools import combinations\n",
    "\n",
    "def Sum_averages(arr):\n",
    "    n = len(arr)\n",
    "    total_sum = 0\n",
    "\n",
    "    # 遍历所有的子集\n",
    "    for r in range(1, n+1):\n",
    "        subsets = combinations(arr, r)\n",
    "        for subset in subsets:\n",
    "            subset_sum = sum(subset)\n",
    "            subset_avg = subset_sum / len(subset)\n",
    "            total_sum += subset_avg\n",
    "\n",
    "    return total_sum\n",
    "\n",
    "# 测试例子\n",
    "arr = [1, 2, 3]\n",
    "result = Sum_averages(arr)\n",
    "print(result)"
   ]
  },
  {
   "cell_type": "code",
   "execution_count": 27,
   "id": "31616d19-d93b-4853-8d5f-f9b573a20f61",
   "metadata": {},
   "outputs": [
    {
     "data": {
      "image/png": "[encoded data removed]",
      "text/plain": [
       "<Figure size 640x480 with 1 Axes>"
      ]
     },
     "metadata": {},
     "output_type": "display_data"
    }
   ],
   "source": [
    "# 4.3\n",
    "import matplotlib.pyplot as plt\n",
    "\n",
    "Total_sum_averages = []\n",
    "\n",
    "for N in range(1, 21):\n",
    "    arr = list(range(1, N+1))\n",
    "    result = Sum_averages(arr)\n",
    "    Total_sum_averages.append(result)\n",
    "\n",
    "plt.plot(range(1, 21), Total_sum_averages)\n",
    "plt.xlabel('N')\n",
    "plt.ylabel('Total Sum of Averages')\n",
    "plt.title('Total Sum of Averages vs N')\n",
    "plt.show()"
   ]
  },
  {
   "cell_type": "code",
   "execution_count": 47,
   "id": "93372948-1a22-4347-948b-25b2b5331890",
   "metadata": {},
   "outputs": [
    {
     "name": "stdout",
     "output_type": "stream",
     "text": [
      "[[1 0 1 1]\n",
      " [1 0 1 0]\n",
      " [1 1 0 1]]\n"
     ]
    }
   ],
   "source": [
    "# 5.1\n",
    "import numpy as np\n",
    "\n",
    "def create_matrix(N, M):\n",
    "    matrix = np.random.randint(0, 2, size=(N, M))  # 随机填充0或1\n",
    "    matrix[0, 0] = 1  # 填充左上角\n",
    "    matrix[N-1, M-1] = 1  # 填充右下角\n",
    "    return matrix\n",
    "\n",
    "# 创建一个3行4列的示例矩阵\n",
    "N = 3\n",
    "M = 4\n",
    "matrix = create_matrix(N, M)\n",
    "print(matrix)"
   ]
  },
  {
   "cell_type": "code",
   "execution_count": 55,
   "id": "e5ee0c1c-4f02-451a-b7cd-abce30814358",
   "metadata": {},
   "outputs": [
    {
     "name": "stdout",
     "output_type": "stream",
     "text": [
      "[[1 1 1 1]\n",
      " [0 0 1 0]\n",
      " [1 0 1 1]\n",
      " [0 0 0 1]]\n"
     ]
    },
    {
     "data": {
      "text/plain": [
       "1"
      ]
     },
     "execution_count": 55,
     "metadata": {},
     "output_type": "execute_result"
    }
   ],
   "source": [
    "def Count_path(matrix):\n",
    "    rows, cols = len(matrix), len(matrix[0])\n",
    "    \n",
    "    if matrix[0][0] == 0 or matrix[rows-1][cols-1] == 0:  # 如果起始点或终点是0，则无法到达\n",
    "        return 0\n",
    "    \n",
    "    count_matrix = [[0] * cols for _ in range(rows)]  # 创建一个全0矩阵来记录路径数\n",
    "    count_matrix[0][0] = 1  # 起始点路径数为1\n",
    "\n",
    "    # 计算每个格子的路径数\n",
    "    for i in range(rows):\n",
    "        for j in range(cols):\n",
    "            if matrix[i][j] == 1:  # 如果当前格子可通行\n",
    "                if i > 0:  # 更新上方格子的路径数\n",
    "                    count_matrix[i][j] += count_matrix[i-1][j]\n",
    "                if j > 0:  # 更新左方格子的路径数\n",
    "                    count_matrix[i][j] += count_matrix[i][j-1]\n",
    "\n",
    "    return count_matrix[rows-1][cols-1]  # 返回右下角格子的路径数\n",
    "\n",
    "matrix = create_matrix(4, 4)\n",
    "print(matrix)\n",
    "Count_path(matrix)"
   ]
  },
  {
   "cell_type": "code",
   "execution_count": 95,
   "id": "08244ece-6da8-44bd-835d-8bbd6a66dcbc",
   "metadata": {},
   "outputs": [
    {
     "name": "stdout",
     "output_type": "stream",
     "text": [
      "0.199\n"
     ]
    }
   ],
   "source": [
    "import numpy as np\n",
    "\n",
    "def Count_path(matrix):\n",
    "    rows, cols = len(matrix), len(matrix[0])\n",
    "    \n",
    "    if matrix[0][0] == 0 or matrix[rows-1][cols-1] == 0:  # 如果起始点或终点是0，则无法到达\n",
    "        return 0\n",
    "    \n",
    "    count_matrix = [[0] * cols for _ in range(rows)]  # 创建一个全0矩阵来记录路径数\n",
    "    count_matrix[0][0] = 1  # 起始点路径数为1\n",
    "\n",
    "    # 计算每个格子的路径数\n",
    "    for i in range(rows):\n",
    "        for j in range(cols):\n",
    "            if matrix[i][j] == 1:  # 如果当前格子可通行\n",
    "                if i > 0:  # 更新上方格子的路径数\n",
    "                    count_matrix[i][j] += count_matrix[i-1][j]\n",
    "                if j > 0:  # 更新左方格子的路径数\n",
    "                    count_matrix[i][j] += count_matrix[i][j-1]\n",
    "\n",
    "    return count_matrix[rows-1][cols-1]  # 返回右下角格子的路径数\n",
    "\n",
    "# 生成1000次随机矩阵并计算路径数\n",
    "N, M = 10, 8\n",
    "path_counts = []\n",
    "for _ in range(1000):\n",
    "    matrix = np.random.choice([0, 1], size=(N, M))\n",
    "    matrix[0][0] = 1  # 左上角格子设为1\n",
    "    matrix[N-1][M-1] = 1  # 右下角格子设为1\n",
    "    path_counts.append(Count_path(matrix))\n",
    "\n",
    "# 计算平均路径数\n",
    "mean_path_count = np.mean(path_counts)\n",
    "print(mean_path_count)"
   ]
  },
  {
   "cell_type": "code",
   "execution_count": null,
   "id": "5f9e245a-35a6-4e9f-8724-895b2e88fea5",
   "metadata": {},
   "outputs": [],
   "source": []
  }
 ],
 "metadata": {
  "kernelspec": {
   "display_name": "Python 3 (ipykernel)",
   "language": "python",
   "name": "python3"
  },
  "language_info": {
   "codemirror_mode": {
    "name": "ipython",
    "version": 3
   },
   "file_extension": ".py",
   "mimetype": "text/x-python",
   "name": "python",
   "nbconvert_exporter": "python",
   "pygments_lexer": "ipython3",
   "version": "3.12.7"
  }
 },
 "nbformat": 4,
 "nbformat_minor": 5
}
